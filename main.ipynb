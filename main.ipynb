{
 "cells": [
  {
   "cell_type": "code",
   "execution_count": 7,
   "metadata": {},
   "outputs": [],
   "source": [
    "import pandas as pd\n",
    "import random"
   ]
  },
  {
   "cell_type": "code",
   "execution_count": 38,
   "metadata": {},
   "outputs": [
    {
     "name": "stdout",
     "output_type": "stream",
     "text": [
      "            id   age  bmi_per_age_gender  bmi_per_age_gender_time  \\\n",
      "0  50969090288    73               0.000                        0   \n",
      "1  33004897725 -2004               0.000                        0   \n",
      "2  17803112627     5              71.555                     2018   \n",
      "3  16093227566    48               0.000                        0   \n",
      "4  74018120966    44               0.000                        0   \n",
      "\n",
      "   body_height  body_height_time  body_temperature  body_temperature_time  \\\n",
      "0        154.5              2019             0.000                      0   \n",
      "1          0.0                 0            37.776                   2011   \n",
      "2        104.4              2018            38.163                   2015   \n",
      "3        182.3              2017             0.000                      0   \n",
      "4        169.7              2016             0.000                      0   \n",
      "\n",
      "   body_weight  body_weight_time  ... heart_rate_time  heboglobin_time  \\\n",
      "0         65.9              2019  ...            2019             2018   \n",
      "1          0.0                 0  ...               0                0   \n",
      "2         17.6              2018  ...            2018             2013   \n",
      "3        101.2              2017  ...            2017             2015   \n",
      "4         87.2              2016  ...            2016                0   \n",
      "\n",
      "   hemoglobin  leukocytes  leukocytes_time  respiratory_rate  \\\n",
      "0      13.173      10.238             2018              15.0   \n",
      "1       0.000       0.000                0               0.0   \n",
      "2      16.372       5.051             2013              12.0   \n",
      "3      16.426      10.433             2015              13.0   \n",
      "4       0.000       0.000                0              14.0   \n",
      "\n",
      "  respiratory_rate_time          state  systolic_blood_pressure  \\\n",
      "0                  2019  Massachusetts                      155   \n",
      "1                     0  Massachusetts                        0   \n",
      "2                  2018  Massachusetts                      116   \n",
      "3                  2017  Massachusetts                      125   \n",
      "4                  2016  Massachusetts                      126   \n",
      "\n",
      "   systolic_blood_pressure_time  \n",
      "0                          2019  \n",
      "1                             0  \n",
      "2                          2018  \n",
      "3                          2017  \n",
      "4                          2016  \n",
      "\n",
      "[5 rows x 28 columns]\n"
     ]
    }
   ],
   "source": [
    "df = pd.read_csv('security-data.csv')\n",
    "id_nums = random.sample(range(10000000000, 99999999999), df.shape[0])\n",
    "df.rename( columns={'Unnamed: 0':'id'}, inplace=True)\n",
    "df.iloc[:,0] = id_nums\n",
    "print(df.head())"
   ]
  },
  {
   "cell_type": "code",
   "execution_count": 39,
   "metadata": {},
   "outputs": [
    {
     "data": {
      "text/plain": [
       "id                                 33004897725\n",
       "age                                      -2004\n",
       "bmi_per_age_gender                         0.0\n",
       "bmi_per_age_gender_time                      0\n",
       "body_height                                0.0\n",
       "body_height_time                             0\n",
       "body_temperature                        37.776\n",
       "body_temperature_time                     2011\n",
       "body_weight                                0.0\n",
       "body_weight_time                             0\n",
       "country                                     US\n",
       "diastolic_blood_pressure                     0\n",
       "diastolic_blood_pressure_time                0\n",
       "disease_time                              2011\n",
       "erythrocytes_in_blood                      0.0\n",
       "erythrocytes_in_blood_time                   0\n",
       "gender                                    male\n",
       "heart_rate                                 0.0\n",
       "heart_rate_time                              0\n",
       "heboglobin_time                              0\n",
       "hemoglobin                                 0.0\n",
       "leukocytes                                 0.0\n",
       "leukocytes_time                              0\n",
       "respiratory_rate                           0.0\n",
       "respiratory_rate_time                        0\n",
       "state                            Massachusetts\n",
       "systolic_blood_pressure                      0\n",
       "systolic_blood_pressure_time                 0\n",
       "Name: 1, dtype: object"
      ]
     },
     "execution_count": 39,
     "metadata": {},
     "output_type": "execute_result"
    }
   ],
   "source": [
    "df.loc[1,:]"
   ]
  },
  {
   "cell_type": "code",
   "execution_count": null,
   "metadata": {},
   "outputs": [],
   "source": []
  }
 ],
 "metadata": {
  "interpreter": {
   "hash": "63fd5069d213b44bf678585dea6b12cceca9941eaf7f819626cde1f2670de90d"
  },
  "kernelspec": {
   "display_name": "Python 3.9.7 64-bit",
   "language": "python",
   "name": "python3"
  },
  "language_info": {
   "codemirror_mode": {
    "name": "ipython",
    "version": 3
   },
   "file_extension": ".py",
   "mimetype": "text/x-python",
   "name": "python",
   "nbconvert_exporter": "python",
   "pygments_lexer": "ipython3",
   "version": "3.9.7"
  },
  "orig_nbformat": 4
 },
 "nbformat": 4,
 "nbformat_minor": 2
}
